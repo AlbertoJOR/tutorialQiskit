{
 "cells": [
  {
   "cell_type": "markdown",
   "metadata": {},
   "source": [
    "# Cómputo Cuántico en la nube"
   ]
  },
  {
   "cell_type": "markdown",
   "metadata": {},
   "source": [
    "## 1. Configuración"
   ]
  },
  {
   "cell_type": "markdown",
   "metadata": {},
   "source": [
    "Se debe contar con las siguientes bibliotecas: \n",
    "```shell \n",
    "pip install matplotlib pylatexenc \n",
    "pip install qiskit qiskit-ibm-provider qiskit-ibm-runtime qiskit-aer \n",
    "``` "
   ]
  },
  {
   "cell_type": "code",
   "execution_count": null,
   "metadata": {},
   "outputs": [],
   "source": [
    "!pip install matplotlib pylatexenc \n",
    "!pip install qiskit qiskit-ibm-provider qiskit-ibm-runtime qiskit-aer "
   ]
  },
  {
   "cell_type": "code",
   "execution_count": null,
   "metadata": {},
   "outputs": [],
   "source": [
    "from qiskit import QuantumRegister, ClassicalRegister, QuantumCircuit\n",
    "from qiskit_aer import AerSimulator\n",
    "from qiskit.visualization import plot_histogram\n",
    "from qiskit import qasm2\n",
    "from qiskit import transpile\n",
    "from qiskit_ibm_runtime import QiskitRuntimeService, Options, Sampler\n",
    "from qiskit_ibm_provider import IBMProvider, least_busy\n",
    "import numpy  as np\n",
    "import math"
   ]
  },
  {
   "cell_type": "code",
   "execution_count": 2,
   "metadata": {},
   "outputs": [],
   "source": [
    "# Argumentos para los diagramas\n",
    "draw_kwargs = {\n",
    "        \"output\": \"mpl\",        # matplotlib\n",
    "        \"cregbundle\": False,    # separa los cables\n",
    "        \"initial_state\": True,  # muestra |0>\n",
    "        \"idle_wires\": False,    # no mostar cables sin utilizar\n",
    "    \"style\": {\n",
    "        \"subfontsize\": 9,       # tamaño\n",
    "        \"dpi\": 600\n",
    "    }\n",
    "}"
   ]
  },
  {
   "cell_type": "markdown",
   "metadata": {},
   "source": [
    "Crear una cuenta en: [IBM Quantum Platform](https://quantum.ibm.com/). Iniciar sesión en ir a Dashboard. "
   ]
  },
  {
   "cell_type": "markdown",
   "metadata": {},
   "source": [
    "Copiar el API Token"
   ]
  },
  {
   "cell_type": "markdown",
   "metadata": {},
   "source": [
    "Si es la primera vez que se ejecuta las siguientes líneas, el token se guarda en el disco duro en la dirección **$HOME/.qiskit/qiskit-ibm.json**. \n",
    "\n",
    "Solo debe ejecutarse una vez **QiskitRuntimeService.save_account()** para que se guarde el token. "
   ]
  },
  {
   "cell_type": "code",
   "execution_count": null,
   "metadata": {},
   "outputs": [],
   "source": [
    "API_token = \"\"\n",
    "QiskitRuntimeService.save_account(channel=\"ibm_quantum\", token=API_token, overwrite=True)"
   ]
  },
  {
   "cell_type": "markdown",
   "metadata": {},
   "source": [
    "Verificar que se tenga acceso a los servidores"
   ]
  },
  {
   "cell_type": "code",
   "execution_count": 5,
   "metadata": {},
   "outputs": [],
   "source": [
    "provider = IBMProvider()"
   ]
  },
  {
   "cell_type": "markdown",
   "metadata": {},
   "source": [
    "## 2. Compuertas y Circuitos Cuánticos"
   ]
  },
  {
   "cell_type": "markdown",
   "metadata": {},
   "source": [
    "Para visualizar la acción de las compuertas cuánticas es conveniente utilizar un simulador de la \n",
    "esfera de Bloch [Bloch Sphere Simulator](https://bloch.kherb.io/).\n",
    "Los circuitos cuánticos puede ser construidos interactivamente con la herramienta de IBM\n",
    "[IBM Quantum Composer](https://quantum.ibm.com/composer)."
   ]
  },
  {
   "cell_type": "markdown",
   "metadata": {},
   "source": [
    "### 2.1 Circuitos de 1 qubit"
   ]
  },
  {
   "cell_type": "code",
   "execution_count": null,
   "metadata": {},
   "outputs": [],
   "source": [
    "# Se inicia definiendo a los registros. Un registro cuántico como \n",
    "# q y un registro clásico como meas.\n",
    "qreg_q = QuantumRegister(1, \"q\")\n",
    "creg_c = ClassicalRegister(1, \"meas\")\n",
    "\n",
    "# Creación de un circuito\n",
    "qc = QuantumCircuit(qreg_q, creg_c)\n",
    "\n",
    "# Compuerta X\n",
    "qc.x(qreg_q[0])\n",
    "qc.draw(**draw_kwargs)"
   ]
  },
  {
   "cell_type": "code",
   "execution_count": null,
   "metadata": {},
   "outputs": [],
   "source": [
    "qc.measure(qreg_q[0], creg_c[0])\n",
    "qc.draw(**draw_kwargs)"
   ]
  },
  {
   "cell_type": "markdown",
   "metadata": {},
   "source": [
    "### 2.2 Simulación"
   ]
  },
  {
   "cell_type": "code",
   "execution_count": null,
   "metadata": {},
   "outputs": [],
   "source": [
    "simulator = AerSimulator()\n",
    "result = simulator.run(qc, shots = 64).result()\n",
    "counts = result.get_counts(0)\n",
    "print(counts)"
   ]
  },
  {
   "cell_type": "code",
   "execution_count": null,
   "metadata": {},
   "outputs": [],
   "source": [
    "print(qasm2.dumps(qc))"
   ]
  },
  {
   "cell_type": "code",
   "execution_count": null,
   "metadata": {},
   "outputs": [],
   "source": [
    "plot_histogram(counts)"
   ]
  },
  {
   "cell_type": "markdown",
   "metadata": {},
   "source": [
    "### 2.3 Más de 1 qubit\n",
    "Entrelazamiento cuántico"
   ]
  },
  {
   "cell_type": "code",
   "execution_count": null,
   "metadata": {},
   "outputs": [],
   "source": [
    "bell = QuantumCircuit(2)\n",
    "bell.h(0)\n",
    "#bell.x(1)\n",
    "bell.cx(0, 1)\n",
    "bell.measure_all()\n",
    "bell.draw(**draw_kwargs)"
   ]
  },
  {
   "cell_type": "code",
   "execution_count": null,
   "metadata": {},
   "outputs": [],
   "source": [
    "simulator = AerSimulator()\n",
    "result = simulator.run(bell, shots = 64).result()\n",
    "counts = result.get_counts(0)\n",
    "plot_histogram(counts)"
   ]
  },
  {
   "cell_type": "code",
   "execution_count": null,
   "metadata": {},
   "outputs": [],
   "source": [
    "qc = QuantumCircuit(3)\n",
    "\n",
    "qc.h(0)  \n",
    "qc.cx(0, 1) \n",
    "qc.x(2)\n",
    "qc.cz(1, 2) \n",
    "qc.draw(**draw_kwargs) "
   ]
  },
  {
   "cell_type": "code",
   "execution_count": null,
   "metadata": {},
   "outputs": [],
   "source": [
    "qc.cz(1, 2)\n",
    "qc.x(2)  \n",
    "qc.cx(0, 1)  \n",
    "qc.h(0)\n",
    "qc.draw(**draw_kwargs)  "
   ]
  },
  {
   "cell_type": "code",
   "execution_count": null,
   "metadata": {},
   "outputs": [],
   "source": [
    "qc.measure_all()\n",
    "simulator = AerSimulator()\n",
    "result = simulator.run(qc, shots = 64).result()\n",
    "counts = result.get_counts(0)\n",
    "plot_histogram(counts)"
   ]
  },
  {
   "cell_type": "markdown",
   "metadata": {},
   "source": [
    "## 3. Computación cuántica en la nube"
   ]
  },
  {
   "cell_type": "markdown",
   "metadata": {},
   "source": [
    "### 3.1 Servidores"
   ]
  },
  {
   "cell_type": "code",
   "execution_count": null,
   "metadata": {},
   "outputs": [],
   "source": [
    "provider = IBMProvider()\n",
    "print(\"Nombre del sistema           Número de Qubits\")\n",
    "print(\"---------------------------------------------\")\n",
    "print(provider.backends())\n",
    "for backend in provider.backends():\n",
    "    config = backend.configuration()\n",
    "    print(f\"{config.backend_name:22}       {config.n_qubits:>3}\")"
   ]
  },
  {
   "cell_type": "markdown",
   "metadata": {},
   "source": [
    "### 3.2 Hardware cuántico"
   ]
  },
  {
   "cell_type": "code",
   "execution_count": 16,
   "metadata": {},
   "outputs": [],
   "source": [
    "device = least_busy(provider.backends(\n",
    "    filters=lambda x : x.configuration().n_qubits >=3 and\n",
    "        not x.configuration().simulator\n",
    "        and x.status().operational == True\n",
    "))"
   ]
  },
  {
   "cell_type": "code",
   "execution_count": null,
   "metadata": {},
   "outputs": [],
   "source": [
    "print(device)"
   ]
  },
  {
   "cell_type": "markdown",
   "metadata": {},
   "source": [
    "[Computing resources](https://quantum.ibm.com/services/resources)"
   ]
  },
  {
   "cell_type": "code",
   "execution_count": null,
   "metadata": {},
   "outputs": [],
   "source": [
    "base, b = quantum_state = (-math.sqrt(3)/2, complex(0, 1/2))\n",
    "norm = abs(base)**2 + abs(b)**2\n",
    "print(norm)"
   ]
  },
  {
   "cell_type": "code",
   "execution_count": null,
   "metadata": {},
   "outputs": [],
   "source": [
    "cqc = QuantumCircuit(1)\n",
    "cqc.initialize(quantum_state, 0)\n",
    "cqc.measure_all()\n",
    "cqc.draw(**draw_kwargs)"
   ]
  },
  {
   "cell_type": "code",
   "execution_count": null,
   "metadata": {},
   "outputs": [],
   "source": [
    "simulator = AerSimulator()\n",
    "result = simulator.run(cqc, shots = 1024).result() \n",
    "counts = result.get_counts(cqc)\n",
    "plot_histogram(counts)"
   ]
  },
  {
   "cell_type": "markdown",
   "metadata": {},
   "source": [
    "**Transpilation** es el proceso de rescribir una entrade de un circuito para que coincida con la topología específica de un dispositivo cuántico y/o optimizar la ejecución del circuito en los sistemas cuánticos con ruido. \n",
    "\n",
    "Esta operación sigue 6 pasos que pueden ser iterativos: \n",
    "\n",
    "- Optimización virtual del circuito \n",
    "\n",
    "- Descomposición a compuertas de 3 qubits \n",
    "\n",
    "- Posicionamiento de qubits físicos \n",
    "\n",
    "- Enrutamiento \n",
    "\n",
    "- Traducción a compuertas base \n",
    "\n",
    "- Optimización física del circuito "
   ]
  },
  {
   "cell_type": "code",
   "execution_count": null,
   "metadata": {},
   "outputs": [],
   "source": [
    "quantum_hw = provider.get_backend(\"ibm_sherbrooke\")\n",
    "qc_transpiled = transpile(cqc, quantum_hw)\n",
    "qc_transpiled.draw(style = \"iqd\")"
   ]
  },
  {
   "cell_type": "markdown",
   "metadata": {},
   "source": [
    "### 3.3 Ejecución en la nube"
   ]
  },
  {
   "cell_type": "code",
   "execution_count": 10,
   "metadata": {},
   "outputs": [],
   "source": [
    "job = quantum_hw.run(qc_transpiled, shots=1024)"
   ]
  },
  {
   "cell_type": "code",
   "execution_count": null,
   "metadata": {},
   "outputs": [],
   "source": [
    "service = QiskitRuntimeService()\n",
    "job = service.job('cw9h70mggr6g0087szxg')\n",
    "job.status()"
   ]
  },
  {
   "cell_type": "code",
   "execution_count": null,
   "metadata": {},
   "outputs": [],
   "source": [
    "data = job.result().data()\n",
    "countshw = data['counts']\n",
    "bin_dict = {bin(int(key, 16))[2:].zfill(1): value for key, value in countshw.items()}"
   ]
  },
  {
   "cell_type": "code",
   "execution_count": null,
   "metadata": {},
   "outputs": [],
   "source": [
    "plot_histogram([counts, bin_dict], legend=[\"sim\", \"QHW\"])"
   ]
  },
  {
   "cell_type": "markdown",
   "metadata": {},
   "source": [
    "## 4. Algoritmo de Shor"
   ]
  },
  {
   "cell_type": "code",
   "execution_count": 15,
   "metadata": {},
   "outputs": [],
   "source": [
    "def c_amod15(base, power):\n",
    "    if base not in [2,4,7,8,11,13]:\n",
    "        raise ValueError(\"'a' tiene que ser 2,4,7,8,11 o 13\")\n",
    "    U = QuantumCircuit(4)\n",
    "    for _iteration in range(power):\n",
    "        if base in [2,13]:\n",
    "            U.swap(2,3)\n",
    "            U.swap(1,2)\n",
    "            U.swap(0,1)\n",
    "        if base in [7,8]:\n",
    "            U.swap(0,1)\n",
    "            U.swap(1,2)\n",
    "            U.swap(2,3)\n",
    "        if base in [4, 11]:\n",
    "            U.swap(1,3)\n",
    "            U.swap(0,2)\n",
    "        if base in [7,11,13]:\n",
    "            for q in range(4):\n",
    "                U.x(q)\n",
    "    U = U.to_gate()\n",
    "    U.name = f\"{base}^{power} mod 15\"\n",
    "    c_U = U.control()\n",
    "    return c_U"
   ]
  },
  {
   "cell_type": "code",
   "execution_count": 16,
   "metadata": {},
   "outputs": [],
   "source": [
    "def QFTi(n):\n",
    "    qc = QuantumCircuit(n)\n",
    "    for qubit in range(n//2):\n",
    "        qc.swap(qubit, n-qubit-1)\n",
    "    for j in range(n):\n",
    "        for k in range(j):\n",
    "            if k != j:\n",
    "                qc.cu(-np.pi/float(2**(j-k)), 0, 0, 0, k, j)\n",
    "        qc.h(j)\n",
    "    qc.name = \"QFTi\"\n",
    "    return qc"
   ]
  },
  {
   "cell_type": "code",
   "execution_count": null,
   "metadata": {},
   "outputs": [],
   "source": [
    "qc = QFTi(4)\n",
    "qc.measure_all()\n",
    "qc.draw(**draw_kwargs)"
   ]
  },
  {
   "cell_type": "code",
   "execution_count": 18,
   "metadata": {},
   "outputs": [],
   "source": [
    "def Shor_15(n_qubits,base):\n",
    "    qc = QuantumCircuit(n_qubits*2, n_qubits)\n",
    "    for q in range(n_qubits):\n",
    "        qc.h(q)\n",
    "    qc.x(n_qubits)\n",
    "\n",
    "    for q in range(n_qubits):\n",
    "        qc.append(c_amod15(base, 2**q),\n",
    "                 [q] + [i+n_qubits for i in range(4)])\n",
    "    qc.append(QFTi(n_qubits), range(n_qubits))\n",
    "    qc.measure(range(n_qubits), range(n_qubits))\n",
    "    return qc\n",
    "\n"
   ]
  },
  {
   "cell_type": "markdown",
   "metadata": {},
   "source": [
    "### 4.1 Factorización 15 con base 7"
   ]
  },
  {
   "cell_type": "code",
   "execution_count": null,
   "metadata": {},
   "outputs": [],
   "source": [
    "\n",
    "qc = Shor_15(4,7)\n",
    "qc.draw(**draw_kwargs)"
   ]
  },
  {
   "cell_type": "code",
   "execution_count": 20,
   "metadata": {},
   "outputs": [],
   "source": [
    "\n",
    "qc_dec_7 = qc.decompose()\n",
    "# qc_dec.draw(**draw_kwargs)"
   ]
  },
  {
   "cell_type": "code",
   "execution_count": null,
   "metadata": {},
   "outputs": [],
   "source": [
    "simulator = AerSimulator()\n",
    "result = simulator.run(qc_dec_7, shots=1024).result()\n",
    "counts_base7 = result.get_counts(0)\n",
    "print(\"Resultados:\", counts_base7)\n",
    "plot_histogram(counts_base7)"
   ]
  },
  {
   "cell_type": "code",
   "execution_count": 22,
   "metadata": {},
   "outputs": [],
   "source": [
    "from fractions import Fraction"
   ]
  },
  {
   "cell_type": "code",
   "execution_count": null,
   "metadata": {},
   "outputs": [],
   "source": [
    "frac = Fraction(12/16)\n",
    "print(frac)\n",
    "period = frac.denominator"
   ]
  },
  {
   "cell_type": "code",
   "execution_count": 24,
   "metadata": {},
   "outputs": [],
   "source": [
    "def gcd(a, b):\n",
    "    while b != 0:\n",
    "        tmp = a % b\n",
    "        a = b\n",
    "        b = tmp\n",
    "    return a"
   ]
  },
  {
   "cell_type": "code",
   "execution_count": null,
   "metadata": {},
   "outputs": [],
   "source": [
    "N = 15\n",
    "base = 7\n",
    "print(\"base: \", base, \"N: \", N, \"period: \", period)\n",
    "print(\"factor: \",gcd(base**(period//2) +1, N))\n",
    "print(\"factor: \",gcd(base**(period//2) -1, N))"
   ]
  },
  {
   "cell_type": "markdown",
   "metadata": {},
   "source": [
    "### 4.2 Factorización 15 con base 4"
   ]
  },
  {
   "cell_type": "code",
   "execution_count": null,
   "metadata": {},
   "outputs": [],
   "source": [
    "\n",
    "qc = Shor_15(4,4)\n",
    "qc.draw(**draw_kwargs)"
   ]
  },
  {
   "cell_type": "code",
   "execution_count": 27,
   "metadata": {},
   "outputs": [],
   "source": [
    "\n",
    "qc_dec_4 = qc.decompose()\n",
    "# qc_dec.draw(**draw_kwargs)"
   ]
  },
  {
   "cell_type": "code",
   "execution_count": null,
   "metadata": {},
   "outputs": [],
   "source": [
    "simulator = AerSimulator()\n",
    "result = simulator.run(qc_dec_4, shots=1024).result()\n",
    "counts_base4 = result.get_counts(0)\n",
    "print(\"Resultados:\", counts_base4)\n",
    "plot_histogram(counts_base4)"
   ]
  },
  {
   "cell_type": "code",
   "execution_count": null,
   "metadata": {},
   "outputs": [],
   "source": [
    "frac = Fraction(8/16)\n",
    "print(frac)\n",
    "period = frac.denominator"
   ]
  },
  {
   "cell_type": "code",
   "execution_count": null,
   "metadata": {},
   "outputs": [],
   "source": [
    "N = 15\n",
    "base = 4\n",
    "print(\"base: \", base, \"N: \", N, \"period: \", period)\n",
    "print(\"factor: \",gcd(base**(period//2) +1, N))\n",
    "print(\"factor: \",gcd(base**(period//2) -1, N))"
   ]
  },
  {
   "cell_type": "markdown",
   "metadata": {},
   "source": [
    "### 4.3 Shor en hardware cuántico"
   ]
  },
  {
   "cell_type": "code",
   "execution_count": null,
   "metadata": {},
   "outputs": [],
   "source": [
    "provider = IBMProvider()\n",
    "print(\"Nombre del sistema           Número de Qubits\")\n",
    "print(\"---------------------------------------------\")\n",
    "print(provider.backends())\n",
    "for backend in provider.backends():\n",
    "    config = backend.configuration()\n",
    "    print(f\"{config.backend_name:22}       {config.n_qubits:>3}\")"
   ]
  },
  {
   "cell_type": "code",
   "execution_count": null,
   "metadata": {},
   "outputs": [],
   "source": [
    "device = least_busy(provider.backends(\n",
    "    filters=lambda x : x.configuration().n_qubits >=3 and\n",
    "        not x.configuration().simulator\n",
    "        and x.status().operational == True\n",
    "))\n",
    "print(device)"
   ]
  },
  {
   "cell_type": "code",
   "execution_count": 54,
   "metadata": {},
   "outputs": [],
   "source": [
    "quantum_hw = provider.get_backend(\"ibm_brisbane\")\n",
    "qc_transpiled = transpile(qc_dec_7, quantum_hw)\n",
    "# qc_transpiled = transpile(qc_dec_4, quantum_hw)"
   ]
  },
  {
   "cell_type": "code",
   "execution_count": null,
   "metadata": {},
   "outputs": [],
   "source": [
    "qc_transpiled.draw(style = \"iqd\")"
   ]
  },
  {
   "cell_type": "code",
   "execution_count": 55,
   "metadata": {},
   "outputs": [],
   "source": [
    "job = quantum_hw.run(qc_transpiled, shots=1024)"
   ]
  },
  {
   "cell_type": "code",
   "execution_count": null,
   "metadata": {},
   "outputs": [],
   "source": [
    "job.job_id()"
   ]
  },
  {
   "cell_type": "code",
   "execution_count": null,
   "metadata": {},
   "outputs": [],
   "source": [
    "job.status()"
   ]
  },
  {
   "cell_type": "code",
   "execution_count": null,
   "metadata": {},
   "outputs": [],
   "source": [
    "job_result = job.result()  # bloquea hasta que se haya completado el trabajo\n",
    "print(\"El trabajo termino con un estado: {}\".format(job_result))"
   ]
  },
  {
   "cell_type": "markdown",
   "metadata": {},
   "source": [
    "### 4.2 Base 4"
   ]
  },
  {
   "cell_type": "markdown",
   "metadata": {},
   "source": [
    "ID del resultado de Shor para factorizar 15 con base 4  con 1024 intentos: 'cvyn6es6xzjg0084hkag'"
   ]
  },
  {
   "cell_type": "code",
   "execution_count": null,
   "metadata": {},
   "outputs": [],
   "source": [
    "service = QiskitRuntimeService()\n",
    "job = service.job('cvyn6es6xzjg0084hkag')\n",
    "job.status()"
   ]
  },
  {
   "cell_type": "code",
   "execution_count": 32,
   "metadata": {},
   "outputs": [],
   "source": [
    "data = job.result().data()\n",
    "countshw = data['counts']\n",
    "bin_dict = {bin(int(key, 16))[2:].zfill(4): value for key, value in countshw.items()}"
   ]
  },
  {
   "cell_type": "code",
   "execution_count": null,
   "metadata": {},
   "outputs": [],
   "source": [
    "plot_histogram([counts_base4, bin_dict], legend=[\"sim\", \"QHW\"])"
   ]
  },
  {
   "cell_type": "markdown",
   "metadata": {},
   "source": [
    "### 4.3 Base 7"
   ]
  },
  {
   "cell_type": "markdown",
   "metadata": {},
   "source": [
    "ID del resultado de Shor para factorizar 15 con base 4  con 1024 intentos: 'cvynbzzz9es0008e7qy0'"
   ]
  },
  {
   "cell_type": "code",
   "execution_count": null,
   "metadata": {},
   "outputs": [],
   "source": [
    "job = service.job('cvynbzzz9es0008e7qy0')\n",
    "job.status()"
   ]
  },
  {
   "cell_type": "code",
   "execution_count": 36,
   "metadata": {},
   "outputs": [],
   "source": [
    "data = job.result().data()\n",
    "countshw = data['counts']\n",
    "bin_dict = {bin(int(key, 16))[2:].zfill(4): value for key, value in countshw.items()}"
   ]
  },
  {
   "cell_type": "code",
   "execution_count": null,
   "metadata": {},
   "outputs": [],
   "source": [
    "plot_histogram([counts_base7, bin_dict], legend=[\"sim\", \"QHW\"])"
   ]
  }
 ],
 "metadata": {
  "kernelspec": {
   "display_name": "venv",
   "language": "python",
   "name": "python3"
  },
  "language_info": {
   "codemirror_mode": {
    "name": "ipython",
    "version": 3
   },
   "file_extension": ".py",
   "mimetype": "text/x-python",
   "name": "python",
   "nbconvert_exporter": "python",
   "pygments_lexer": "ipython3",
   "version": "3.10.12"
  }
 },
 "nbformat": 4,
 "nbformat_minor": 2
}
